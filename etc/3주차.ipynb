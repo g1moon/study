{
 "cells": [
  {
   "cell_type": "code",
   "execution_count": 1,
   "metadata": {},
   "outputs": [],
   "source": [
    "import matplotlib\n",
    "import matplotlib.pyplot as plt\n",
    "%matplotlib inline\n",
    "\n",
    "import numpy as np\n",
    "import pandas as pd"
   ]
  },
  {
   "cell_type": "code",
   "execution_count": 3,
   "metadata": {},
   "outputs": [
    {
     "data": {
      "text/plain": [
       "0     1.916667\n",
       "10    1.849969\n",
       "20    2.431762\n",
       "30    2.097586\n",
       "40    1.494920\n",
       "50   -0.192282\n",
       "60   -0.837081\n",
       "70   -0.268631\n",
       "80   -1.898082\n",
       "90   -2.804077\n",
       "dtype: float64"
      ]
     },
     "execution_count": 3,
     "metadata": {},
     "output_type": "execute_result"
    }
   ],
   "source": [
    "s=pd.Series(np.random.randn(10).cumsum(), index=np.arange(0,100,10))\n",
    "s"
   ]
  },
  {
   "cell_type": "code",
   "execution_count": 4,
   "metadata": {},
   "outputs": [
    {
     "data": {
      "text/plain": [
       "<matplotlib.axes._subplots.AxesSubplot at 0x23da6a46f08>"
      ]
     },
     "execution_count": 4,
     "metadata": {},
     "output_type": "execute_result"
    },
    {
     "data": {
      "image/png": "[encoded data removed]",
      "text/plain": [
       "<Figure size 432x288 with 1 Axes>"
      ]
     },
     "metadata": {
      "needs_background": "light"
     },
     "output_type": "display_data"
    }
   ],
   "source": [
    "s.plot()"
   ]
  },
  {
   "cell_type": "code",
   "execution_count": 7,
   "metadata": {},
   "outputs": [
    {
     "data": {
      "text/html": [
       "<div>\n",
       "<style scoped>\n",
       "    .dataframe tbody tr th:only-of-type {\n",
       "        vertical-align: middle;\n",
       "    }\n",
       "\n",
       "    .dataframe tbody tr th {\n",
       "        vertical-align: top;\n",
       "    }\n",
       "\n",
       "    .dataframe thead th {\n",
       "        text-align: right;\n",
       "    }\n",
       "</style>\n",
       "<table border=\"1\" class=\"dataframe\">\n",
       "  <thead>\n",
       "    <tr style=\"text-align: right;\">\n",
       "      <th></th>\n",
       "      <th>A</th>\n",
       "      <th>B</th>\n",
       "      <th>C</th>\n",
       "      <th>D</th>\n",
       "    </tr>\n",
       "  </thead>\n",
       "  <tbody>\n",
       "    <tr>\n",
       "      <th>0</th>\n",
       "      <td>0.202757</td>\n",
       "      <td>-0.957227</td>\n",
       "      <td>0.375548</td>\n",
       "      <td>-0.315519</td>\n",
       "    </tr>\n",
       "    <tr>\n",
       "      <th>10</th>\n",
       "      <td>-2.395089</td>\n",
       "      <td>-0.750022</td>\n",
       "      <td>-1.759173</td>\n",
       "      <td>-1.094122</td>\n",
       "    </tr>\n",
       "    <tr>\n",
       "      <th>20</th>\n",
       "      <td>-2.115995</td>\n",
       "      <td>-1.188655</td>\n",
       "      <td>-1.135463</td>\n",
       "      <td>0.928018</td>\n",
       "    </tr>\n",
       "    <tr>\n",
       "      <th>30</th>\n",
       "      <td>-3.801274</td>\n",
       "      <td>-0.227843</td>\n",
       "      <td>-2.629550</td>\n",
       "      <td>0.184523</td>\n",
       "    </tr>\n",
       "    <tr>\n",
       "      <th>40</th>\n",
       "      <td>-4.612123</td>\n",
       "      <td>-1.169599</td>\n",
       "      <td>-1.672909</td>\n",
       "      <td>1.162399</td>\n",
       "    </tr>\n",
       "    <tr>\n",
       "      <th>50</th>\n",
       "      <td>-4.505955</td>\n",
       "      <td>0.265957</td>\n",
       "      <td>-2.752851</td>\n",
       "      <td>0.015927</td>\n",
       "    </tr>\n",
       "    <tr>\n",
       "      <th>60</th>\n",
       "      <td>-4.323203</td>\n",
       "      <td>-0.719595</td>\n",
       "      <td>-1.823595</td>\n",
       "      <td>1.911812</td>\n",
       "    </tr>\n",
       "    <tr>\n",
       "      <th>70</th>\n",
       "      <td>-5.003464</td>\n",
       "      <td>0.526747</td>\n",
       "      <td>-0.694832</td>\n",
       "      <td>1.654637</td>\n",
       "    </tr>\n",
       "    <tr>\n",
       "      <th>80</th>\n",
       "      <td>-6.422151</td>\n",
       "      <td>2.390037</td>\n",
       "      <td>-0.709589</td>\n",
       "      <td>-0.541759</td>\n",
       "    </tr>\n",
       "    <tr>\n",
       "      <th>90</th>\n",
       "      <td>-7.403229</td>\n",
       "      <td>2.562643</td>\n",
       "      <td>-0.999862</td>\n",
       "      <td>-0.255323</td>\n",
       "    </tr>\n",
       "  </tbody>\n",
       "</table>\n",
       "</div>"
      ],
      "text/plain": [
       "           A         B         C         D\n",
       "0   0.202757 -0.957227  0.375548 -0.315519\n",
       "10 -2.395089 -0.750022 -1.759173 -1.094122\n",
       "20 -2.115995 -1.188655 -1.135463  0.928018\n",
       "30 -3.801274 -0.227843 -2.629550  0.184523\n",
       "40 -4.612123 -1.169599 -1.672909  1.162399\n",
       "50 -4.505955  0.265957 -2.752851  0.015927\n",
       "60 -4.323203 -0.719595 -1.823595  1.911812\n",
       "70 -5.003464  0.526747 -0.694832  1.654637\n",
       "80 -6.422151  2.390037 -0.709589 -0.541759\n",
       "90 -7.403229  2.562643 -0.999862 -0.255323"
      ]
     },
     "execution_count": 7,
     "metadata": {},
     "output_type": "execute_result"
    }
   ],
   "source": [
    "df=pd.DataFrame(np.random.randn(10,4).cumsum(axis=0), \n",
    "               columns=[\"A\",\"B\",\"C\",\"D\"],\n",
    "               index=np.arange(0,100,10))\n",
    "df"
   ]
  },
  {
   "cell_type": "code",
   "execution_count": 8,
   "metadata": {},
   "outputs": [
    {
     "data": {
      "text/plain": [
       "<matplotlib.axes._subplots.AxesSubplot at 0x23da698ddc8>"
      ]
     },
     "execution_count": 8,
     "metadata": {},
     "output_type": "execute_result"
    },
    {
     "data": {
      "image/png": "[encoded data removed]",
      "text/plain": [
       "<Figure size 432x288 with 1 Axes>"
      ]
     },
     "metadata": {
      "needs_background": "light"
     },
     "output_type": "display_data"
    }
   ],
   "source": [
    "df.plot()"
   ]
  },
  {
   "cell_type": "code",
   "execution_count": 10,
   "metadata": {},
   "outputs": [
    {
     "data": {
      "text/plain": [
       "<matplotlib.axes._subplots.AxesSubplot at 0x23da73bf2c8>"
      ]
     },
     "execution_count": 10,
     "metadata": {},
     "output_type": "execute_result"
    },
    {
     "data": {
      "image/png": "[encoded data removed]",
      "text/plain": [
       "<Figure size 432x288 with 1 Axes>"
      ]
     },
     "metadata": {
      "needs_background": "light"
     },
     "output_type": "display_data"
    }
   ],
   "source": [
    "df['B'].plot()"
   ]
  },
  {
   "cell_type": "code",
   "execution_count": 11,
   "metadata": {},
   "outputs": [
    {
     "data": {
      "text/plain": [
       "a    0.822369\n",
       "b    0.881863\n",
       "c    0.797272\n",
       "d    0.427855\n",
       "e    0.964986\n",
       "f    0.705696\n",
       "g    0.530676\n",
       "h    0.471429\n",
       "i    0.412957\n",
       "j    0.851084\n",
       "k    0.824950\n",
       "i    0.752947\n",
       "m    0.825213\n",
       "n    0.341755\n",
       "o    0.273977\n",
       "p    0.810233\n",
       "dtype: float64"
      ]
     },
     "execution_count": 11,
     "metadata": {},
     "output_type": "execute_result"
    }
   ],
   "source": [
    "s2 = pd.Series(np.random.rand(16), index=list(\"abcdefghijkimnop\"))\n",
    "s2"
   ]
  },
  {
   "cell_type": "code",
   "execution_count": 12,
   "metadata": {},
   "outputs": [
    {
     "data": {
      "text/plain": [
       "<matplotlib.axes._subplots.AxesSubplot at 0x23da71a1a08>"
      ]
     },
     "execution_count": 12,
     "metadata": {},
     "output_type": "execute_result"
    },
    {
     "data": {
      "image/png": "[encoded data removed]",
      "text/plain": [
       "<Figure size 432x288 with 1 Axes>"
      ]
     },
     "metadata": {
      "needs_background": "light"
     },
     "output_type": "display_data"
    }
   ],
   "source": [
    "s2.plot(kind='bar')"
   ]
  },
  {
   "cell_type": "code",
   "execution_count": 14,
   "metadata": {},
   "outputs": [
    {
     "data": {
      "text/plain": [
       "<matplotlib.axes._subplots.AxesSubplot at 0x23da7562848>"
      ]
     },
     "execution_count": 14,
     "metadata": {},
     "output_type": "execute_result"
    },
    {
     "data": {
      "image/png": "[encoded data removed]",
      "text/plain": [
       "<Figure size 432x288 with 1 Axes>"
      ]
     },
     "metadata": {
      "needs_background": "light"
     },
     "output_type": "display_data"
    }
   ],
   "source": [
    "s2.plot(kind='barh')"
   ]
  },
  {
   "cell_type": "code",
   "execution_count": 20,
   "metadata": {},
   "outputs": [
    {
     "data": {
      "text/html": [
       "<div>\n",
       "<style scoped>\n",
       "    .dataframe tbody tr th:only-of-type {\n",
       "        vertical-align: middle;\n",
       "    }\n",
       "\n",
       "    .dataframe tbody tr th {\n",
       "        vertical-align: top;\n",
       "    }\n",
       "\n",
       "    .dataframe thead th {\n",
       "        text-align: right;\n",
       "    }\n",
       "</style>\n",
       "<table border=\"1\" class=\"dataframe\">\n",
       "  <thead>\n",
       "    <tr style=\"text-align: right;\">\n",
       "      <th>Genus</th>\n",
       "      <th>A</th>\n",
       "      <th>B</th>\n",
       "      <th>C</th>\n",
       "      <th>D</th>\n",
       "    </tr>\n",
       "  </thead>\n",
       "  <tbody>\n",
       "    <tr>\n",
       "      <th>one</th>\n",
       "      <td>0.279411</td>\n",
       "      <td>0.211865</td>\n",
       "      <td>0.926397</td>\n",
       "      <td>0.512541</td>\n",
       "    </tr>\n",
       "    <tr>\n",
       "      <th>two</th>\n",
       "      <td>0.485477</td>\n",
       "      <td>0.066341</td>\n",
       "      <td>0.470927</td>\n",
       "      <td>0.062942</td>\n",
       "    </tr>\n",
       "    <tr>\n",
       "      <th>three</th>\n",
       "      <td>0.566261</td>\n",
       "      <td>0.740928</td>\n",
       "      <td>0.626685</td>\n",
       "      <td>0.860802</td>\n",
       "    </tr>\n",
       "    <tr>\n",
       "      <th>four</th>\n",
       "      <td>0.382851</td>\n",
       "      <td>0.540979</td>\n",
       "      <td>0.377734</td>\n",
       "      <td>0.345145</td>\n",
       "    </tr>\n",
       "    <tr>\n",
       "      <th>five</th>\n",
       "      <td>0.965613</td>\n",
       "      <td>0.753871</td>\n",
       "      <td>0.151444</td>\n",
       "      <td>0.831557</td>\n",
       "    </tr>\n",
       "    <tr>\n",
       "      <th>six</th>\n",
       "      <td>0.938701</td>\n",
       "      <td>0.613667</td>\n",
       "      <td>0.564129</td>\n",
       "      <td>0.788208</td>\n",
       "    </tr>\n",
       "  </tbody>\n",
       "</table>\n",
       "</div>"
      ],
      "text/plain": [
       "Genus         A         B         C         D\n",
       "one    0.279411  0.211865  0.926397  0.512541\n",
       "two    0.485477  0.066341  0.470927  0.062942\n",
       "three  0.566261  0.740928  0.626685  0.860802\n",
       "four   0.382851  0.540979  0.377734  0.345145\n",
       "five   0.965613  0.753871  0.151444  0.831557\n",
       "six    0.938701  0.613667  0.564129  0.788208"
      ]
     },
     "execution_count": 20,
     "metadata": {},
     "output_type": "execute_result"
    }
   ],
   "source": [
    "df2=pd.DataFrame(np.random.rand(6,4),\n",
    "               index=[\"one\",\"two\",\"three\",\"four\",\"five\",\"six\"],\n",
    "               columns=pd.Index([\"A\",\"B\",\"C\",\"D\"],name='Genus'))\n",
    "df2"
   ]
  },
  {
   "cell_type": "code",
   "execution_count": 21,
   "metadata": {},
   "outputs": [
    {
     "data": {
      "text/plain": [
       "<matplotlib.axes._subplots.AxesSubplot at 0x23da75e5148>"
      ]
     },
     "execution_count": 21,
     "metadata": {},
     "output_type": "execute_result"
    },
    {
     "data": {
      "image/png": "[encoded data removed]",
      "text/plain": [
       "<Figure size 432x288 with 1 Axes>"
      ]
     },
     "metadata": {
      "needs_background": "light"
     },
     "output_type": "display_data"
    }
   ],
   "source": [
    "df2.plot(kind='bar')"
   ]
  },
  {
   "cell_type": "code",
   "execution_count": 22,
   "metadata": {},
   "outputs": [
    {
     "data": {
      "text/plain": [
       "<matplotlib.axes._subplots.AxesSubplot at 0x23da767f048>"
      ]
     },
     "execution_count": 22,
     "metadata": {},
     "output_type": "execute_result"
    },
    {
     "data": {
      "image/png": "[encoded data removed]",
      "text/plain": [
       "<Figure size 432x288 with 1 Axes>"
      ]
     },
     "metadata": {
      "needs_background": "light"
     },
     "output_type": "display_data"
    }
   ],
   "source": [
    "df2.plot(kind='barh',stacked=True)"
   ]
  },
  {
   "cell_type": "code",
   "execution_count": 23,
   "metadata": {},
   "outputs": [
    {
     "data": {
      "text/plain": [
       "0      1.125835\n",
       "1     -0.405062\n",
       "2     -1.496824\n",
       "3      0.123824\n",
       "4      0.801216\n",
       "         ...   \n",
       "195   -1.437178\n",
       "196    1.297570\n",
       "197    0.859825\n",
       "198   -1.087081\n",
       "199    0.569722\n",
       "Length: 200, dtype: float64"
      ]
     },
     "execution_count": 23,
     "metadata": {},
     "output_type": "execute_result"
    }
   ],
   "source": [
    "s3 = pd.Series(np.random.normal(0,1,size=200))\n",
    "s3"
   ]
  },
  {
   "cell_type": "code",
   "execution_count": 24,
   "metadata": {},
   "outputs": [
    {
     "data": {
      "text/plain": [
       "<matplotlib.axes._subplots.AxesSubplot at 0x23da76b2548>"
      ]
     },
     "execution_count": 24,
     "metadata": {},
     "output_type": "execute_result"
    },
    {
     "data": {
      "image/png": "[encoded data removed]",
      "text/plain": [
       "<Figure size 432x288 with 1 Axes>"
      ]
     },
     "metadata": {
      "needs_background": "light"
     },
     "output_type": "display_data"
    }
   ],
   "source": [
    "s3.hist()"
   ]
  },
  {
   "cell_type": "code",
   "execution_count": 25,
   "metadata": {},
   "outputs": [
    {
     "data": {
      "text/plain": [
       "<matplotlib.axes._subplots.AxesSubplot at 0x23da77f96c8>"
      ]
     },
     "execution_count": 25,
     "metadata": {},
     "output_type": "execute_result"
    },
    {
     "data": {
      "image/png": "[encoded data removed]",
      "text/plain": [
       "<Figure size 432x288 with 1 Axes>"
      ]
     },
     "metadata": {
      "needs_background": "light"
     },
     "output_type": "display_data"
    }
   ],
   "source": [
    "s3.hist(bins=50)"
   ]
  },
  {
   "cell_type": "code",
   "execution_count": 26,
   "metadata": {},
   "outputs": [
    {
     "data": {
      "text/plain": [
       "<matplotlib.axes._subplots.AxesSubplot at 0x23da88abb48>"
      ]
     },
     "execution_count": 26,
     "metadata": {},
     "output_type": "execute_result"
    },
    {
     "data": {
      "image/png": "[encoded data removed]",
      "text/plain": [
       "<Figure size 432x288 with 1 Axes>"
      ]
     },
     "metadata": {
      "needs_background": "light"
     },
     "output_type": "display_data"
    }
   ],
   "source": [
    "s3.hist(bins=100,density=True)"
   ]
  },
  {
   "cell_type": "code",
   "execution_count": 29,
   "metadata": {},
   "outputs": [
    {
     "data": {
      "text/plain": [
       "array([[ -1.2536449 ,   4.57702443],\n",
       "       [ -0.30840756,   1.90716576],\n",
       "       [ -1.16300761,   4.16533752],\n",
       "       [  0.38747211,  -3.92810912],\n",
       "       [ -0.26131725,  -1.63255184],\n",
       "       [  0.35039937,  -9.22348681],\n",
       "       [  0.29754306,  -4.63862858],\n",
       "       [  0.56956464,   0.83885116],\n",
       "       [  1.3488546 ,  -7.4616446 ],\n",
       "       [  2.1190885 ,  -5.91127472],\n",
       "       [ -0.80088938,  -1.95803765],\n",
       "       [ -1.13102227,  -2.99811305],\n",
       "       [  1.20090549,   4.67698551],\n",
       "       [  1.87007488,  -0.90384683],\n",
       "       [  2.7358697 ,   0.71872953],\n",
       "       [  1.44804247,  -9.80714866],\n",
       "       [  1.76419005,  -0.96557625],\n",
       "       [  0.7137073 ,  -1.09782448],\n",
       "       [  1.16364717,  -3.79546986],\n",
       "       [  1.85965013,  -1.54038337],\n",
       "       [  0.68716045,  -2.5517988 ],\n",
       "       [  1.12291692,  -3.0277384 ],\n",
       "       [  0.4736604 ,  -3.28081371],\n",
       "       [  2.24762676,  -7.44939802],\n",
       "       [  1.78263332,  -3.5848529 ],\n",
       "       [  1.14639739,  -2.27906324],\n",
       "       [ -0.32576164,  -5.46222025],\n",
       "       [  0.74578036,  -4.3280032 ],\n",
       "       [  1.3083903 ,  -5.79209462],\n",
       "       [  2.11956056,  -5.71048348],\n",
       "       [ -0.23845518,   6.81641952],\n",
       "       [  1.62093852,   3.51364247],\n",
       "       [  1.49222346,  -6.30884358],\n",
       "       [  1.34905651,   2.6115334 ],\n",
       "       [  0.49817792,  -5.76269951],\n",
       "       [  0.83265346,   1.73575072],\n",
       "       [  2.6176161 ,   1.57868618],\n",
       "       [  0.23240267,  -1.55393455],\n",
       "       [  2.00576823, -10.25673572],\n",
       "       [  0.67756432,  -1.29101234],\n",
       "       [  0.74207138,  -3.01426473],\n",
       "       [ -0.10166444,  -6.94968343],\n",
       "       [  2.44165891,  -4.82191035],\n",
       "       [  0.43402972,   3.76326467],\n",
       "       [  1.33069351,   2.37662571],\n",
       "       [ -0.47004952,   5.47294624],\n",
       "       [  1.28638087,   1.10320448],\n",
       "       [  0.53367902,  -0.38935281],\n",
       "       [  1.67977819,   5.02583163],\n",
       "       [  3.10487881,  -7.40433996],\n",
       "       [  1.65152578,  -5.13585858],\n",
       "       [  1.31863012,   3.63037059],\n",
       "       [  1.86794446,   0.15357117],\n",
       "       [  1.2588342 ,  -0.81508587],\n",
       "       [  0.16977328,  -3.87203007],\n",
       "       [  0.70597903,   1.62539248],\n",
       "       [  1.91397005,   1.82933923],\n",
       "       [  0.80851588,   3.46537183],\n",
       "       [  0.70376295,  -1.83024736],\n",
       "       [  0.46834033,  -1.00765781],\n",
       "       [  1.22286891,  -1.16874118],\n",
       "       [  1.2627261 ,  -5.29677254],\n",
       "       [  2.69122801,  -7.50640262],\n",
       "       [  1.51450627,  -6.49181587],\n",
       "       [  2.24096909,  -1.54733589],\n",
       "       [  1.44713545,  -1.73092878],\n",
       "       [  1.20027676,  -2.68343298],\n",
       "       [  1.0688845 ,   1.69392345],\n",
       "       [  1.50067683,   2.10492538],\n",
       "       [  0.24935953,   3.83329327],\n",
       "       [  1.72820124,  -1.78341553],\n",
       "       [  0.21836662,   3.49597831],\n",
       "       [  0.10566074,  -6.44359079],\n",
       "       [  0.73842306,  -3.66732651],\n",
       "       [  0.87002349,  -2.88448837],\n",
       "       [  1.44219974,   1.44704696],\n",
       "       [  1.14109145,  -1.99268706],\n",
       "       [  1.05654317,  -0.96815556],\n",
       "       [  0.9804293 ,  -5.27647368],\n",
       "       [  1.6821971 ,  -3.25768007],\n",
       "       [  1.9077755 ,   2.06558497],\n",
       "       [  1.24085519,  -7.62118061],\n",
       "       [  0.38992058,  -3.68160001],\n",
       "       [  2.77381339,  -4.49358551],\n",
       "       [  1.66914879, -10.27597271],\n",
       "       [  1.16042459,  -6.71160923],\n",
       "       [  0.30455248,  -7.43742126],\n",
       "       [  0.41348505,   0.08732213],\n",
       "       [  0.72047799,  -1.61409987],\n",
       "       [  1.62226271,  -3.34426043],\n",
       "       [  0.47266045,  -1.24213271],\n",
       "       [  0.92544766,   0.47943577],\n",
       "       [  0.67779563,   3.01393352],\n",
       "       [  1.45991519,   2.04638404],\n",
       "       [  1.43011459,   3.23985121],\n",
       "       [  1.61996598,  -4.70316452],\n",
       "       [ -0.72620673,  -7.05561629],\n",
       "       [  0.10348204,   0.44537836],\n",
       "       [ -0.07929601,  -2.65708423],\n",
       "       [  0.21610225,   0.40460197]])"
      ]
     },
     "execution_count": 29,
     "metadata": {},
     "output_type": "execute_result"
    }
   ],
   "source": [
    "x1=np.random.normal(1,1,size=(100,1))\n",
    "x2=np.random.normal(-2,4,size=(100,1))\n",
    "x=np.concatenate((x1,x2),axis=1)\n",
    "x"
   ]
  },
  {
   "cell_type": "code",
   "execution_count": 33,
   "metadata": {},
   "outputs": [
    {
     "data": {
      "text/html": [
       "<div>\n",
       "<style scoped>\n",
       "    .dataframe tbody tr th:only-of-type {\n",
       "        vertical-align: middle;\n",
       "    }\n",
       "\n",
       "    .dataframe tbody tr th {\n",
       "        vertical-align: top;\n",
       "    }\n",
       "\n",
       "    .dataframe thead th {\n",
       "        text-align: right;\n",
       "    }\n",
       "</style>\n",
       "<table border=\"1\" class=\"dataframe\">\n",
       "  <thead>\n",
       "    <tr style=\"text-align: right;\">\n",
       "      <th></th>\n",
       "      <th>x1</th>\n",
       "      <th>x2</th>\n",
       "    </tr>\n",
       "  </thead>\n",
       "  <tbody>\n",
       "    <tr>\n",
       "      <th>0</th>\n",
       "      <td>-1.253645</td>\n",
       "      <td>4.577024</td>\n",
       "    </tr>\n",
       "    <tr>\n",
       "      <th>1</th>\n",
       "      <td>-0.308408</td>\n",
       "      <td>1.907166</td>\n",
       "    </tr>\n",
       "    <tr>\n",
       "      <th>2</th>\n",
       "      <td>-1.163008</td>\n",
       "      <td>4.165338</td>\n",
       "    </tr>\n",
       "    <tr>\n",
       "      <th>3</th>\n",
       "      <td>0.387472</td>\n",
       "      <td>-3.928109</td>\n",
       "    </tr>\n",
       "    <tr>\n",
       "      <th>4</th>\n",
       "      <td>-0.261317</td>\n",
       "      <td>-1.632552</td>\n",
       "    </tr>\n",
       "    <tr>\n",
       "      <th>...</th>\n",
       "      <td>...</td>\n",
       "      <td>...</td>\n",
       "    </tr>\n",
       "    <tr>\n",
       "      <th>95</th>\n",
       "      <td>1.619966</td>\n",
       "      <td>-4.703165</td>\n",
       "    </tr>\n",
       "    <tr>\n",
       "      <th>96</th>\n",
       "      <td>-0.726207</td>\n",
       "      <td>-7.055616</td>\n",
       "    </tr>\n",
       "    <tr>\n",
       "      <th>97</th>\n",
       "      <td>0.103482</td>\n",
       "      <td>0.445378</td>\n",
       "    </tr>\n",
       "    <tr>\n",
       "      <th>98</th>\n",
       "      <td>-0.079296</td>\n",
       "      <td>-2.657084</td>\n",
       "    </tr>\n",
       "    <tr>\n",
       "      <th>99</th>\n",
       "      <td>0.216102</td>\n",
       "      <td>0.404602</td>\n",
       "    </tr>\n",
       "  </tbody>\n",
       "</table>\n",
       "<p>100 rows × 2 columns</p>\n",
       "</div>"
      ],
      "text/plain": [
       "          x1        x2\n",
       "0  -1.253645  4.577024\n",
       "1  -0.308408  1.907166\n",
       "2  -1.163008  4.165338\n",
       "3   0.387472 -3.928109\n",
       "4  -0.261317 -1.632552\n",
       "..       ...       ...\n",
       "95  1.619966 -4.703165\n",
       "96 -0.726207 -7.055616\n",
       "97  0.103482  0.445378\n",
       "98 -0.079296 -2.657084\n",
       "99  0.216102  0.404602\n",
       "\n",
       "[100 rows x 2 columns]"
      ]
     },
     "execution_count": 33,
     "metadata": {},
     "output_type": "execute_result"
    }
   ],
   "source": [
    "df3 = pd.DataFrame(x, columns=[\"x1\",\"x2\"])\n",
    "df3"
   ]
  },
  {
   "cell_type": "code",
   "execution_count": 35,
   "metadata": {},
   "outputs": [
    {
     "data": {
      "text/plain": [
       "<matplotlib.collections.PathCollection at 0x23da8a87808>"
      ]
     },
     "execution_count": 35,
     "metadata": {},
     "output_type": "execute_result"
    },
    {
     "data": {
      "image/png": "[encoded data removed]",
      "text/plain": [
       "<Figure size 432x288 with 1 Axes>"
      ]
     },
     "metadata": {
      "needs_background": "light"
     },
     "output_type": "display_data"
    }
   ],
   "source": [
    "plt.scatter(df3['x1'],df3['x2'])"
   ]
  },
  {
   "cell_type": "code",
   "execution_count": 36,
   "metadata": {},
   "outputs": [
    {
     "data": {
      "image/png": "[encoded data removed]",
      "text/plain": [
       "<Figure size 432x288 with 6 Axes>"
      ]
     },
     "metadata": {
      "needs_background": "light"
     },
     "output_type": "display_data"
    }
   ],
   "source": [
    "fig,axes = plt.subplots(2,3)"
   ]
  },
  {
   "cell_type": "code",
   "execution_count": 37,
   "metadata": {},
   "outputs": [
    {
     "data": {
      "text/plain": [
       "array([[<matplotlib.axes._subplots.AxesSubplot object at 0x0000023DA8ABE248>,\n",
       "        <matplotlib.axes._subplots.AxesSubplot object at 0x0000023DA8A643C8>,\n",
       "        <matplotlib.axes._subplots.AxesSubplot object at 0x0000023DA8B10C08>],\n",
       "       [<matplotlib.axes._subplots.AxesSubplot object at 0x0000023DA8B49E08>,\n",
       "        <matplotlib.axes._subplots.AxesSubplot object at 0x0000023DA8B80FC8>,\n",
       "        <matplotlib.axes._subplots.AxesSubplot object at 0x0000023DA8BBF1C8>]],\n",
       "      dtype=object)"
      ]
     },
     "execution_count": 37,
     "metadata": {},
     "output_type": "execute_result"
    }
   ],
   "source": [
    "axes "
   ]
  },
  {
   "cell_type": "code",
   "execution_count": 38,
   "metadata": {},
   "outputs": [
    {
     "data": {
      "text/plain": [
       "[<matplotlib.lines.Line2D at 0x23da8c8da48>]"
      ]
     },
     "execution_count": 38,
     "metadata": {},
     "output_type": "execute_result"
    },
    {
     "data": {
      "image/png": "[encoded data removed]",
      "text/plain": [
       "<Figure size 432x288 with 1 Axes>"
      ]
     },
     "metadata": {
      "needs_background": "light"
     },
     "output_type": "display_data"
    }
   ],
   "source": [
    "plt.plot(np.random.randn(50),color='g',marker='o',linestyle='--')"
   ]
  },
  {
   "cell_type": "code",
   "execution_count": 41,
   "metadata": {},
   "outputs": [],
   "source": [
    "x=np.arange(0,100,2)\n",
    "y=np.random.randn(50)"
   ]
  },
  {
   "cell_type": "code",
   "execution_count": 42,
   "metadata": {},
   "outputs": [
    {
     "data": {
      "text/plain": [
       "[<matplotlib.lines.Line2D at 0x23da8cfcd88>]"
      ]
     },
     "execution_count": 42,
     "metadata": {},
     "output_type": "execute_result"
    },
    {
     "data": {
      "image/png": "[encoded data removed]",
      "text/plain": [
       "<Figure size 432x288 with 1 Axes>"
      ]
     },
     "metadata": {
      "needs_background": "light"
     },
     "output_type": "display_data"
    }
   ],
   "source": [
    "plt.plot(x,y, color='g',marker='o',linestyle='--')"
   ]
  },
  {
   "cell_type": "code",
   "execution_count": null,
   "metadata": {},
   "outputs": [],
   "source": []
  }
 ],
 "metadata": {
  "kernelspec": {
   "display_name": "Python 3",
   "language": "python",
   "name": "python3"
  },
  "language_info": {
   "codemirror_mode": {
    "name": "ipython",
    "version": 3
   },
   "file_extension": ".py",
   "mimetype": "text/x-python",
   "name": "python",
   "nbconvert_exporter": "python",
   "pygments_lexer": "ipython3",
   "version": "3.7.6"
  }
 },
 "nbformat": 4,
 "nbformat_minor": 4
}
