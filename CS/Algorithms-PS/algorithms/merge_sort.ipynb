{
 "cells": [
  {
   "cell_type": "code",
   "execution_count": null,
   "metadata": {},
   "outputs": [],
   "source": []
  },
  {
   "cell_type": "markdown",
   "metadata": {},
   "source": [
    "<div class=\"alert alert-block alert-warning\">\n",
    "<strong><font color=\"blue\" size=\"4em\">프로그래밍 연습</font></strong><br>\n",
    "어떤 데이터리스트가 있을 때 리스트를 앞뒤로 짜르는 코드 작성해보기 (일반화)\n",
    "</div>"
   ]
  },
  {
   "cell_type": "code",
   "execution_count": 1,
   "metadata": {},
   "outputs": [],
   "source": [
    "def split_func(data):\n",
    "    medium = int(len(data)/2)\n",
    "    left = data[:midium]\n",
    "    right = data[midium:]\n",
    "    \n",
    "    print(left, right)\n",
    "    \n",
    "\n"
   ]
  },
  {
   "cell_type": "markdown",
   "metadata": {},
   "source": [
    "### 재귀용법 활용\n",
    "<div class=\"alert alert-block alert-warning\">\n",
    "<strong><font color=\"blue\" size=\"4em\">프로그래밍 연습</font></strong><br>\n",
    "</div>\n",
    "<pre>\n",
    "다음 문장을 코드로 작성해보기 (merge함수는 아직은 없는 상태, 있다고만 가정)\n",
    "* mergesplit 함수 만들기\n",
    "  - 만약 리스트 갯수가 한개이면 해당 값 리턴\n",
    "  - 그렇지 않으면, 리스트를 앞뒤, 두 개로 나누기\n",
    "  - left = mergesplit(앞)\n",
    "  - right = mergesplit(뒤)\n",
    "  - merge(left, right)\n",
    "</pre>"
   ]
  },
  {
   "cell_type": "code",
   "execution_count": 4,
   "metadata": {},
   "outputs": [],
   "source": [
    "def mergesplit(data):\n",
    "    if len(data) <= 1:\n",
    "        return data\n",
    "    \n",
    "    left = mergesplit(data[:midium])\n",
    "    right = mergesplit(data[midium:])\n",
    "    \n",
    "    return merge(left, right)\n",
    "\n"
   ]
  },
  {
   "cell_type": "markdown",
   "metadata": {},
   "source": [
    "### merge 함수 만들기\n",
    "* 목표: left 와 right 의 리스트 데이터를 정렬해서 sorted_list 라는 이름으로 return 하기\n",
    "* left와 right는 이미 정렬된 상태 또는 데이터가 하나임"
   ]
  },
  {
   "cell_type": "markdown",
   "metadata": {},
   "source": [
    "<div class=\"alert alert-block alert-warning\">\n",
    "<strong><font color=\"blue\" size=\"4em\">프로그래밍 연습</font></strong><br>\n",
    "</div>\n",
    "\n",
    "1. left 부터 하나씩 right과 비교\n",
    "2. left > right 이면, left 를 sorted_list에 넣고, 다음 left 리스트와 right 비교\n",
    "   - 그렇지않으면 반대로 하기\n",
    "<pre>\n",
    "다음 경우만 프로그래밍으로 작성해보기\n",
    "left = [0]\n",
    "right = [3]\n",
    "결과는 별도의 리스트 변수를 만들어 적은 숫자 순으로 순서대로 저장해서 리턴\n",
    "</pre>"
   ]
  },
  {
   "cell_type": "code",
   "execution_count": null,
   "metadata": {},
   "outputs": [],
   "source": [
    "def merge(left, right):\n",
    "    merged = []\n",
    "    left_point, right_point = 0,0\n",
    "    \n",
    "    #case1 : left/right 둘 다 있을 때\n",
    "    #왼쪽 데이터의 길이가 해당 포인터보다 클 때 -> 포인터가 끝을 가지 못함 -> 왼쪽에 데이터가 있음\n",
    "    #작은 것을 추가 \n",
    "    while len(left) > left_point and len(right) > right_point:\n",
    "        if left[left_point] > right[right_point]:\n",
    "            merged.append(right[right_point])\n",
    "            right_point = right_point + 1\n",
    "            \n",
    "        else:\n",
    "            merged.append(left[left_point])\n",
    "            left_point = left_point + 1\n",
    "    \n",
    "    #case2- left 데이터가 없을 때 ? 아닌거 같은데\n",
    "    #포인터의 크기가 데이터 길이보다 작을 때 -> \n",
    "    while len(left) > left_point:\n",
    "        merged.append(left[left_point])\n",
    "        left_point = left_point + 1\n",
    "        \n",
    "    while len(right) > right_point:\n",
    "        merged.append(right[right_point])\n",
    "        right_point = right_point + 1\n",
    "        \n",
    "#데이터가 양쪽에 \"다\" 있으면 위에서 걸리고 -> 왼쪽이든 오른쪽이든 없는 상태로 아래로 내려올거임\n",
    "#오른쪽이 없다면 2번쨰에 걸려 왼쪽을 다 날리게 해주고 -> 왼쪽이 다 날라가면 -> 모두 날라감\n",
    "#반대의 경우에는 1에서 3번쨰로 걸려 다 처리\n",
    "\n",
    "    return merged\n",
    "#계속 나누고 -> 합쳐줌\n",
    "#데이터 길이가 1이면 data 리턴하고 \n",
    "#나누면서 계쏙 \n",
    "def mergesplit(data):\n",
    "    if len(data) <=1:\n",
    "        return data\n",
    "    \n",
    "    medium = int(len(data)/2)\n",
    "    left = mergesplit(data[:medium])\n",
    "    right = mergesplit(data[medium:])\n",
    "    return merge(left, right)\n",
    "            "
   ]
  },
  {
   "cell_type": "code",
   "execution_count": null,
   "metadata": {},
   "outputs": [],
   "source": []
  },
  {
   "cell_type": "code",
   "execution_count": null,
   "metadata": {},
   "outputs": [],
   "source": []
  }
 ],
 "metadata": {
  "kernelspec": {
   "display_name": "Python 3",
   "language": "python",
   "name": "python3"
  },
  "language_info": {
   "codemirror_mode": {
    "name": "ipython",
    "version": 3
   },
   "file_extension": ".py",
   "mimetype": "text/x-python",
   "name": "python",
   "nbconvert_exporter": "python",
   "pygments_lexer": "ipython3",
   "version": "3.7.3"
  }
 },
 "nbformat": 4,
 "nbformat_minor": 4
}
